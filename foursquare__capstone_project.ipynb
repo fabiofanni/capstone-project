{
 "cells": [
  {
   "cell_type": "markdown",
   "metadata": {},
   "source": [
    "# Introduction/Business Problem\n",
    "\n",
    "Which neigbourhood are the most viable to open a restaurant business and keep it open long term? I want to analyse which\n",
    "characteristics make a restaurant popular (e.g. cousine type, price tier, whether the venue takes reservations, parking availability)\n",
    "and which neighbourhood eventually offer the best chances to succeed in NYC. \n",
    "\n"
   ]
  },
  {
   "cell_type": "markdown",
   "metadata": {},
   "source": [
    "# Data\n",
    "\n",
    "From the Foursquare dataset I will be sourcing most of these venue details: https://developer.foursquare.com/docs/api/venues/details\n",
    "and combine/classify with location information to create the dataset.     \n",
    "    \n"
   ]
  },
  {
   "cell_type": "code",
   "execution_count": null,
   "metadata": {},
   "outputs": [],
   "source": []
  }
 ],
 "metadata": {
  "kernelspec": {
   "display_name": "Python 3",
   "language": "python",
   "name": "python3"
  },
  "language_info": {
   "codemirror_mode": {
    "name": "ipython",
    "version": 3
   },
   "file_extension": ".py",
   "mimetype": "text/x-python",
   "name": "python",
   "nbconvert_exporter": "python",
   "pygments_lexer": "ipython3",
   "version": "3.7.3"
  }
 },
 "nbformat": 4,
 "nbformat_minor": 2
}
