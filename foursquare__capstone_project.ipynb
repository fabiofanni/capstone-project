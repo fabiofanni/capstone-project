{
 "cells": [
  {
   "cell_type": "markdown",
   "metadata": {},
   "source": [
    "# Introduction/Business Problem\n",
    "\n",
    "Which neigbourhood are the most viable to open a restaurant business and keep it open long term? I want to analyse which\n",
    "characteristics make a restaurant popular (e.g. cousine type, price tier, whether the venue takes reservations, parking availability)\n",
    "and which neighbourhood eventually offer the best chances to succeed in NYC. \n",
    "\n"
   ]
  },
  {
   "cell_type": "markdown",
   "metadata": {},
   "source": [
    "## Target Audience\n",
    "\n",
    "<ol>\n",
    "<li>The insights and information from this analysis could be useful mainly for investors or business owners that are thinking of opening up new restaurants and need to gauge risks and potential benefits for their ventures.\n",
    "<li>On a secondary level, this information could also be leveraged to generate or update real estate listings and compute value of commercial properties based on this analisis.\n",
    "</ol>"
   ]
  },
  {
   "cell_type": "markdown",
   "metadata": {},
   "source": [
    "# Data\n",
    "\n",
    "From the Foursquare dataset I will be sourcing most of these venue details: https://developer.foursquare.com/docs/api/venues/details\n",
    "and combine/classify with location information to create the dataset.     \n",
    "   Example:\n",
    "\n",
    "A restaurant record to be used for the purpose of this exercise could contain the following attributes:\n",
    "<ol>\n",
    "<li>VENUE_ID - unique ID for the restaurant\n",
    "<li>location lat & lon - leveraging this two values can help clustering venues geographically and visually\n",
    "<li>price - price range for the venue\n",
    "<li>rating - overall rating for the venue. Combining this with number of likes we could get a decent proxy for how <li>successful the venue is.\n",
    "<li>categories - array of categories. For the purpose of this exercise I'll be using the first value of the array.\n",
    "<li>likes - count of total likes for the venue to gauge popularity\n",
    "</ol>"
   ]
  },
  {
   "cell_type": "code",
   "execution_count": null,
   "metadata": {},
   "outputs": [],
   "source": []
  }
 ],
 "metadata": {
  "kernelspec": {
   "display_name": "Python 3",
   "language": "python",
   "name": "python3"
  },
  "language_info": {
   "codemirror_mode": {
    "name": "ipython",
    "version": 3
   },
   "file_extension": ".py",
   "mimetype": "text/x-python",
   "name": "python",
   "nbconvert_exporter": "python",
   "pygments_lexer": "ipython3",
   "version": "3.7.3"
  }
 },
 "nbformat": 4,
 "nbformat_minor": 2
}
